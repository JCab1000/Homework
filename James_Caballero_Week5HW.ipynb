{
 "cells": [
  {
   "cell_type": "markdown",
   "metadata": {},
   "source": [
    "1. What does Pandas stand for?\n",
    "\n",
    "    # Stands for either:\n",
    "        1. Panel Data and/or\n",
    "        2. Python Data Analysis\n",
    "\n",
    "2. What are the 2 collections used in Pandas?\n",
    "\n",
    "    # Series and DataFrames\n",
    "\n",
    "3. Name 4 things Pandas can do for us.\n",
    "\n",
    "    # Pandas can perform five significant steps required for processing and analysis of data, irrespective of the origin of the data:\n",
    "    # Perform 5 data analysis steps:\n",
    "        1. load\n",
    "        2. manipulate\n",
    "        3. prepare\n",
    "        4. model\n",
    "        5. analyze\n",
    "    \n",
    "\n",
    "4. To permanently sort a DataFrame, which keyword should one use with the df.sort() method?\n",
    "\n",
    "\n",
    "\n",
    "5. What is a CSV?\n",
    "\n",
    "    # Comma Separated Value data file\n",
    "\n",
    "\n",
    "6. When cleaning data what values do we not like in our data?\n",
    "\n",
    "    # NULLS\n"
   ]
  },
  {
   "cell_type": "code",
   "execution_count": null,
   "metadata": {},
   "outputs": [],
   "source": []
  }
 ],
 "metadata": {
  "kernelspec": {
   "display_name": "Python 3",
   "language": "python",
   "name": "python3"
  },
  "language_info": {
   "name": "python",
   "version": "3.12.0"
  }
 },
 "nbformat": 4,
 "nbformat_minor": 2
}
