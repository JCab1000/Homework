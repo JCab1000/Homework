{
 "cells": [
  {
   "cell_type": "markdown",
   "metadata": {},
   "source": [
    "1. What does Pandas stand for?\n",
    "\n",
    "    # Stands for either:\n",
    "        1. Panel Data and/or\n",
    "        2. Python Data Analysis\n",
    "\n",
    "2. What are the 2 collections used in Pandas?\n",
    "\n",
    "    # Series and DataFrames\n",
    "\n",
    "3. Name 4 things Pandas can do for us.\n",
    "\n",
    "    # Pandas can perform five significant steps required for processing and analysis of data, irrespective of the origin of the data:\n",
    "    # Perform 5 data analysis steps:\n",
    "        1. load\n",
    "        2. manipulate\n",
    "        3. prepare\n",
    "        4. model\n",
    "        5. analyze\n",
    "    \n",
    "\n",
    "4. To permanently sort a DataFrame, which keyword should one use with the df.sort() method?\n",
    "\n",
    "    # inplace = true\n",
    "\n",
    "5. What is a CSV?\n",
    "\n",
    "    # Comma Separated Value data file\n",
    "\n",
    "\n",
    "6. When cleaning data what values do we not like in our data?\n",
    "\n",
    "    # NULLS\n"
   ]
  },
  {
   "cell_type": "code",
   "execution_count": 12,
   "metadata": {},
   "outputs": [
    {
     "name": "stdout",
     "output_type": "stream",
     "text": [
      "[2 3 2]\n",
      "\n",
      "arrayA reshaped with (3,-1)\n",
      " [[2]\n",
      " [3]\n",
      " [2]]\n"
     ]
    }
   ],
   "source": [
    "import numpy as np\n",
    "\n",
    "arrayA= np.array([2, 3, 2])\n",
    "\n",
    "print(arrayA)\n",
    "\n",
    "newShape = arrayA.reshape(3, -1)\n",
    "print(\"\\narrayA reshaped with (3,-1)\\n\", newShape)\n"
   ]
  },
  {
   "cell_type": "code",
   "execution_count": 13,
   "metadata": {},
   "outputs": [
    {
     "name": "stdout",
     "output_type": "stream",
     "text": [
      "[ 0.  4.  8. 12. 16. 20.]\n"
     ]
    }
   ],
   "source": [
    "Array1 = np.linspace(0, 20, num=6)\n",
    "print(Array1)\n"
   ]
  },
  {
   "cell_type": "code",
   "execution_count": 14,
   "metadata": {},
   "outputs": [
    {
     "name": "stdout",
     "output_type": "stream",
     "text": [
      "[ 0.  4.  8. 12. 16. 20.]\n"
     ]
    }
   ],
   "source": [
    "import copy\n",
    "\n",
    "zArray = copy.deepcopy(Array1)\n",
    "\n",
    "print(zArray)\n"
   ]
  },
  {
   "cell_type": "code",
   "execution_count": 16,
   "metadata": {},
   "outputs": [
    {
     "name": "stdout",
     "output_type": "stream",
     "text": [
      "[[25 16]\n",
      " [11  2]\n",
      " [13  4]\n",
      " [ 7 81]\n",
      " [ 5  6]\n",
      " [11 12]]\n"
     ]
    }
   ],
   "source": [
    "Array2 = ([[25, 16]])\n",
    "Array3 = ([[11, 2], [13, 4]])\n",
    "Array4 = ([[7, 81], [5, 6], [11, 12]])\n",
    "\n",
    "newArray = np.concatenate((Array2, Array3, Array4), axis=0)\n",
    "print(newArray)\n"
   ]
  },
  {
   "cell_type": "code",
   "execution_count": 18,
   "metadata": {},
   "outputs": [
    {
     "name": "stdout",
     "output_type": "stream",
     "text": [
      "[[16 25]\n",
      " [ 2 11]\n",
      " [ 4 13]\n",
      " [ 7 81]\n",
      " [ 5  6]\n",
      " [11 12]]\n"
     ]
    }
   ],
   "source": [
    "sortedArray = np.sort(newArray)\n",
    "print(sortedArray)\n"
   ]
  },
  {
   "cell_type": "code",
   "execution_count": 26,
   "metadata": {},
   "outputs": [
    {
     "name": "stdout",
     "output_type": "stream",
     "text": [
      "[25 16]\n",
      "[11  2]\n",
      "[13  4]\n",
      "[ 7 81]\n",
      "[5 6]\n",
      "[11 12]\n"
     ]
    }
   ],
   "source": [
    "a, b, c, d, e, f = newArray\n",
    "\n",
    "print(a)\n",
    "print(b)\n",
    "print(c)\n",
    "print(d)\n",
    "print(e)\n",
    "print(f)\n",
    "\n",
    "    #Number 12 here is unclear, are we to use the \"reshapedArray\" from #7, or use the \"sortedArray\" from #11?  THere are more than 4 variables?\n"
   ]
  },
  {
   "cell_type": "code",
   "execution_count": 93,
   "metadata": {},
   "outputs": [
    {
     "name": "stdout",
     "output_type": "stream",
     "text": [
      "[10 11 12 13 14 15 16 17 20 21 22 23 24 25 26 27  0  1  2  3  4  5  6  7]\n",
      "[ 0  1  2  3  4  5  6  7 10 11 12 13 14 15 16 17 20 21 22 23 24 25 26 27]\n"
     ]
    }
   ],
   "source": [
    "one = np.array([10, 11, 12, 13, 14, 15, 16, 17])\n",
    "two = np.array([20, 21, 22, 23, 24, 25, 26, 27])\n",
    "three = np.array([ 0, 1, 2, 3, 4, 5, 6, 7])\n",
    "\n",
    "comboArray = np.concatenate((one, two, three), axis = 0)\n",
    "print(comboArray)\n",
    "\n",
    "comboArray = np.sort(comboArray)\n",
    "print(comboArray)\n"
   ]
  },
  {
   "cell_type": "code",
   "execution_count": 116,
   "metadata": {},
   "outputs": [
    {
     "name": "stdout",
     "output_type": "stream",
     "text": [
      "2\n",
      "[ 3  4  5  6  7 10 11 12 13 14 15 16 17 20 21 22 23 24 25 26 27]\n",
      "[ 4  5  6  7 10 11 12 13 14 15 16]\n",
      "[22 23 24 25 26 27]\n",
      "[ 0  1  2  3  4  5  6  7 10 11 12 13 14 15]\n",
      "[20 22 24 26]\n",
      "[27 22 15 10  3]\n"
     ]
    }
   ],
   "source": [
    "print(comboArray[2])\n",
    "\n",
    "print(comboArray[3:])\n",
    "\n",
    "print(comboArray[4:15])\n",
    "\n",
    "print(comboArray[-6:24])\n",
    "\n",
    "print(comboArray[:-10])\n",
    "\n",
    "print(comboArray[16:27:2])\n",
    "\n",
    "print(comboArray[::-5])\n"
   ]
  },
  {
   "cell_type": "code",
   "execution_count": 1,
   "metadata": {},
   "outputs": [],
   "source": [
    "import numpy as np\n",
    "import pandas as pd"
   ]
  },
  {
   "cell_type": "code",
   "execution_count": 7,
   "metadata": {},
   "outputs": [
    {
     "name": "stdout",
     "output_type": "stream",
     "text": [
      "0    Flour\n",
      "1     Milk\n",
      "2     Eggs\n",
      "3     Spam\n",
      "dtype: object\n",
      "0    4\n",
      "1    1\n",
      "2    2\n",
      "3    1\n",
      "dtype: int64\n",
      "0     cups\n",
      "1      cup\n",
      "2    large\n",
      "3      can\n",
      "dtype: object\n"
     ]
    }
   ],
   "source": [
    "Ingredients = pd.Series([\"Flour\",\"Milk\",\"Eggs\",\"Spam\"])\n",
    "Quantity = pd.Series([4,1,2,1])\n",
    "Unit  = pd.Series([\"cups\",\"cup\",\"large\",\"can\"])\n",
    "print(Ingredients)\n",
    "print(Quantity)\n",
    "print(Unit)\n",
    "\n"
   ]
  },
  {
   "cell_type": "code",
   "execution_count": 8,
   "metadata": {},
   "outputs": [
    {
     "name": "stdout",
     "output_type": "stream",
     "text": [
      "       0  1      2\n",
      "0  Flour  4   cups\n",
      "1   Milk  1    cup\n",
      "2   Eggs  2  large\n",
      "3   Spam  1    can\n"
     ]
    }
   ],
   "source": [
    "df = pd.concat([Ingredients, Quantity, Unit], axis=1)\n",
    "print(df)\n"
   ]
  },
  {
   "cell_type": "code",
   "execution_count": 86,
   "metadata": {},
   "outputs": [
    {
     "name": "stdout",
     "output_type": "stream",
     "text": [
      "  Ingredients  Quantity   Unit\n",
      "0       Flour         4   cups\n",
      "1        Milk         1    cup\n",
      "2        Eggs         2  large\n",
      "3        Spam         1    can\n"
     ]
    }
   ],
   "source": [
    "Ingredients = pd.Series([\"Flour\",\"Milk\",\"Eggs\",\"Spam\"], name=\"Ingredients\")\n",
    "Quantity = pd.Series([4,1,2,1], name=\"Quantity\")\n",
    "Unit  = pd.Series([\"cups\",\"cup\",\"large\",\"can\"], name=\"Unit\")\n",
    "df = pd.concat([Ingredients, Quantity, Unit], axis=1)\n",
    "print(df)\n"
   ]
  },
  {
   "cell_type": "code",
   "execution_count": 90,
   "metadata": {},
   "outputs": [
    {
     "name": "stdout",
     "output_type": "stream",
     "text": [
      "Ingredients    Spam\n",
      "Quantity          1\n",
      "Unit            can\n",
      "Name: Dinner, dtype: object\n"
     ]
    }
   ],
   "source": [
    "\n",
    "df = \"Dinner\"\n",
    "print(Dinner.loc[\"Dinner\"])\n"
   ]
  },
  {
   "cell_type": "code",
   "execution_count": 20,
   "metadata": {},
   "outputs": [
    {
     "name": "stdout",
     "output_type": "stream",
     "text": [
      "Ingredients    Spam\n",
      "Quantity          1\n",
      "Unit            can\n",
      "Name: Dinner, dtype: object\n"
     ]
    }
   ],
   "source": [
    "Receipe = {\n",
    "    \"Ingredients\": [\"Flour\",\"Milk\",\"Eggs\",\"Spam\"],\n",
    "    \"Quantity\": [4,1,2,1],\n",
    "    \"Unit\": [\"cups\",\"cup\",\"large\",\"can\"]\n",
    "    }\n",
    "  \n",
    "Dinner = pd.DataFrame(Receipe)\n",
    "Dinner\n",
    "\n",
    "Dinner = pd.DataFrame(Receipe, index = [\"Dinner1\", \"Dinner2\", \"Dinner3\", \"Dinner\"])\n",
    "Dinner\n",
    "\n",
    "print(Dinner.loc[\"Dinner\"])\n"
   ]
  },
  {
   "cell_type": "code",
   "execution_count": 41,
   "metadata": {},
   "outputs": [],
   "source": [
    "import pandas as pd"
   ]
  },
  {
   "cell_type": "code",
   "execution_count": 63,
   "metadata": {},
   "outputs": [
    {
     "name": "stdout",
     "output_type": "stream",
     "text": [
      "\n",
      "DF with assigned column added\n",
      "       Name  Height Qualification  address  Age        Pets           sport  \\\n",
      "0      Jai     5.1           Msc    Delhi   21         Dog           Darts   \n",
      "1  janusha     6.2            MA     Doha   23       Bunny      Basketball   \n",
      "2   Gaurav     5.1           Msc  Chennai   24  Chinchilla  PaddleBoarding   \n",
      "3     Anuj     5.2           Msc   Dakhar   21      Parrot         Cricket   \n",
      "4              0.0                           0                               \n",
      "\n",
      "        Deserts  \n",
      "0     ice cream  \n",
      "1        Cashew  \n",
      "2         Fudge  \n",
      "3       waffels  \n",
      "4  Carrot Halwa  \n"
     ]
    }
   ],
   "source": [
    "stuData = {\n",
    "    'Name': ['Jai', 'janusha', 'Gaurav', 'Anuj', \"\"],\n",
    "    'Height': [5.1, 6.2, 5.1, 5.2, 0 ],\n",
    "    'Qualification': ['Msc', 'MA', 'Msc', 'Msc', \"\"],\n",
    "    'address': ['Delhi', 'Doha', 'Chennai', 'Dakhar', \"\"],\n",
    "    'Age': [21, 23, 24, 21, 0],\n",
    "    'Pets': ['Dog', 'Bunny', 'Chinchilla', 'Parrot', \"\"],\n",
    "    'sport': ['Darts', 'Basketball', 'PaddleBoarding', 'Cricket', \"\"]\n",
    "    }\n",
    "\n",
    "studentData = pd.DataFrame(stuData)\n",
    "studentData\n",
    "\n",
    "df=studentData\n",
    "df\n",
    "\n",
    "\n",
    "deserts = [\"ice cream\", \"Cashew\", \"Fudge\", \"waffels\", \"Carrot Halwa\"]\n",
    "df = df.assign(Deserts=deserts)\n",
    "print(\"\\nDF with assigned column added\\n\", df)"
   ]
  },
  {
   "cell_type": "code",
   "execution_count": 64,
   "metadata": {},
   "outputs": [
    {
     "data": {
      "text/html": [
       "<div>\n",
       "<style scoped>\n",
       "    .dataframe tbody tr th:only-of-type {\n",
       "        vertical-align: middle;\n",
       "    }\n",
       "\n",
       "    .dataframe tbody tr th {\n",
       "        vertical-align: top;\n",
       "    }\n",
       "\n",
       "    .dataframe thead th {\n",
       "        text-align: right;\n",
       "    }\n",
       "</style>\n",
       "<table border=\"1\" class=\"dataframe\">\n",
       "  <thead>\n",
       "    <tr style=\"text-align: right;\">\n",
       "      <th></th>\n",
       "      <th>Name</th>\n",
       "      <th>Height</th>\n",
       "      <th>Qualification</th>\n",
       "      <th>address</th>\n",
       "      <th>Age</th>\n",
       "      <th>Pets</th>\n",
       "      <th>sport</th>\n",
       "      <th>Deserts</th>\n",
       "    </tr>\n",
       "  </thead>\n",
       "  <tbody>\n",
       "    <tr>\n",
       "      <th>4</th>\n",
       "      <td></td>\n",
       "      <td>0.0</td>\n",
       "      <td></td>\n",
       "      <td></td>\n",
       "      <td>0</td>\n",
       "      <td></td>\n",
       "      <td></td>\n",
       "      <td>Carrot Halwa</td>\n",
       "    </tr>\n",
       "    <tr>\n",
       "      <th>3</th>\n",
       "      <td>Anuj</td>\n",
       "      <td>5.2</td>\n",
       "      <td>Msc</td>\n",
       "      <td>Dakhar</td>\n",
       "      <td>21</td>\n",
       "      <td>Parrot</td>\n",
       "      <td>Cricket</td>\n",
       "      <td>waffels</td>\n",
       "    </tr>\n",
       "    <tr>\n",
       "      <th>2</th>\n",
       "      <td>Gaurav</td>\n",
       "      <td>5.1</td>\n",
       "      <td>Msc</td>\n",
       "      <td>Chennai</td>\n",
       "      <td>24</td>\n",
       "      <td>Chinchilla</td>\n",
       "      <td>PaddleBoarding</td>\n",
       "      <td>Fudge</td>\n",
       "    </tr>\n",
       "    <tr>\n",
       "      <th>0</th>\n",
       "      <td>Jai</td>\n",
       "      <td>5.1</td>\n",
       "      <td>Msc</td>\n",
       "      <td>Delhi</td>\n",
       "      <td>21</td>\n",
       "      <td>Dog</td>\n",
       "      <td>Darts</td>\n",
       "      <td>ice cream</td>\n",
       "    </tr>\n",
       "    <tr>\n",
       "      <th>1</th>\n",
       "      <td>janusha</td>\n",
       "      <td>6.2</td>\n",
       "      <td>MA</td>\n",
       "      <td>Doha</td>\n",
       "      <td>23</td>\n",
       "      <td>Bunny</td>\n",
       "      <td>Basketball</td>\n",
       "      <td>Cashew</td>\n",
       "    </tr>\n",
       "  </tbody>\n",
       "</table>\n",
       "</div>"
      ],
      "text/plain": [
       "      Name  Height Qualification  address  Age        Pets           sport  \\\n",
       "4              0.0                           0                               \n",
       "3     Anuj     5.2           Msc   Dakhar   21      Parrot         Cricket   \n",
       "2   Gaurav     5.1           Msc  Chennai   24  Chinchilla  PaddleBoarding   \n",
       "0      Jai     5.1           Msc    Delhi   21         Dog           Darts   \n",
       "1  janusha     6.2            MA     Doha   23       Bunny      Basketball   \n",
       "\n",
       "        Deserts  \n",
       "4  Carrot Halwa  \n",
       "3       waffels  \n",
       "2         Fudge  \n",
       "0     ice cream  \n",
       "1        Cashew  "
      ]
     },
     "execution_count": 64,
     "metadata": {},
     "output_type": "execute_result"
    }
   ],
   "source": [
    "df.sort_values(by = [\"Name\", \"address\"], inplace = True)\n",
    "df\n"
   ]
  },
  {
   "cell_type": "code",
   "execution_count": 66,
   "metadata": {},
   "outputs": [
    {
     "data": {
      "text/html": [
       "<div>\n",
       "<style scoped>\n",
       "    .dataframe tbody tr th:only-of-type {\n",
       "        vertical-align: middle;\n",
       "    }\n",
       "\n",
       "    .dataframe tbody tr th {\n",
       "        vertical-align: top;\n",
       "    }\n",
       "\n",
       "    .dataframe thead th {\n",
       "        text-align: right;\n",
       "    }\n",
       "</style>\n",
       "<table border=\"1\" class=\"dataframe\">\n",
       "  <thead>\n",
       "    <tr style=\"text-align: right;\">\n",
       "      <th></th>\n",
       "      <th>Unnamed: 0</th>\n",
       "      <th>Cows</th>\n",
       "      <th>Goats</th>\n",
       "    </tr>\n",
       "  </thead>\n",
       "  <tbody>\n",
       "    <tr>\n",
       "      <th>0</th>\n",
       "      <td>Year 1</td>\n",
       "      <td>12</td>\n",
       "      <td>22</td>\n",
       "    </tr>\n",
       "    <tr>\n",
       "      <th>1</th>\n",
       "      <td>Year 2</td>\n",
       "      <td>20</td>\n",
       "      <td>19</td>\n",
       "    </tr>\n",
       "  </tbody>\n",
       "</table>\n",
       "</div>"
      ],
      "text/plain": [
       "  Unnamed: 0  Cows  Goats\n",
       "0     Year 1    12     22\n",
       "1     Year 2    20     19"
      ]
     },
     "execution_count": 66,
     "metadata": {},
     "output_type": "execute_result"
    }
   ],
   "source": [
    "import pandas as pd\n",
    "\n",
    "df = pd.DataFrame({'Cows': [12, 20], 'Goats': [22, 19]}, index=['Year 1', 'Year 2'])\n",
    "df.to_csv('cows_and_goats.csv')\n",
    "df =pd.read_csv(\"cows_and_goats.csv\")\n",
    "df\n",
    "\n"
   ]
  },
  {
   "cell_type": "code",
   "execution_count": 83,
   "metadata": {},
   "outputs": [],
   "source": [
    "import pandas as pd\n",
    "\n",
    "Vegetables = pd.DataFrame({'Carrots': [44, 99], 'Turnips': [36, 19]}, index=['Year1', 'Year 2'])\n",
    "Vegetables\n",
    "\n",
    "Vegetables.to_csv(\"Vegetables.csv\")\n",
    "\n",
    "df =pd.read_csv(\"Vegetables.csv\")\n",
    "df\n",
    "\n",
    "Vegetables.to_csv(\"vegETABLES\", sep=\"\\t\")\n",
    "\n"
   ]
  }
 ],
 "metadata": {
  "kernelspec": {
   "display_name": "Python 3",
   "language": "python",
   "name": "python3"
  },
  "language_info": {
   "codemirror_mode": {
    "name": "ipython",
    "version": 3
   },
   "file_extension": ".py",
   "mimetype": "text/x-python",
   "name": "python",
   "nbconvert_exporter": "python",
   "pygments_lexer": "ipython3",
   "version": "3.12.0"
  }
 },
 "nbformat": 4,
 "nbformat_minor": 2
}
