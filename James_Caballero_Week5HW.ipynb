{
 "cells": [
  {
   "cell_type": "markdown",
   "metadata": {},
   "source": [
    "1. What does Pandas stand for?\n",
    "\n",
    "    # Stands for either:\n",
    "        1. Panel Data and/or\n",
    "        2. Python Data Analysis\n",
    "\n",
    "2. What are the 2 collections used in Pandas?\n",
    "\n",
    "    # Series and DataFrames\n",
    "\n",
    "3. Name 4 things Pandas can do for us.\n",
    "\n",
    "    # Pandas can perform five significant steps required for processing and analysis of data, irrespective of the origin of the data:\n",
    "    # Perform 5 data analysis steps:\n",
    "        1. load\n",
    "        2. manipulate\n",
    "        3. prepare\n",
    "        4. model\n",
    "        5. analyze\n",
    "    \n",
    "\n",
    "4. To permanently sort a DataFrame, which keyword should one use with the df.sort() method?\n",
    "\n",
    "    # inplace = true\n",
    "\n",
    "5. What is a CSV?\n",
    "\n",
    "    # Comma Separated Value data file\n",
    "\n",
    "\n",
    "6. When cleaning data what values do we not like in our data?\n",
    "\n",
    "    # NULLS\n"
   ]
  },
  {
   "cell_type": "code",
   "execution_count": 12,
   "metadata": {},
   "outputs": [
    {
     "name": "stdout",
     "output_type": "stream",
     "text": [
      "[2 3 2]\n",
      "\n",
      "arrayA reshaped with (3,-1)\n",
      " [[2]\n",
      " [3]\n",
      " [2]]\n"
     ]
    }
   ],
   "source": [
    "import numpy as np\n",
    "\n",
    "arrayA= np.array([2, 3, 2])\n",
    "\n",
    "print(arrayA)\n",
    "\n",
    "newShape = arrayA.reshape(3, -1)\n",
    "print(\"\\narrayA reshaped with (3,-1)\\n\", newShape)\n"
   ]
  },
  {
   "cell_type": "code",
   "execution_count": 13,
   "metadata": {},
   "outputs": [
    {
     "name": "stdout",
     "output_type": "stream",
     "text": [
      "[ 0.  4.  8. 12. 16. 20.]\n"
     ]
    }
   ],
   "source": [
    "Array1 = np.linspace(0, 20, num=6)\n",
    "print(Array1)\n"
   ]
  },
  {
   "cell_type": "code",
   "execution_count": 14,
   "metadata": {},
   "outputs": [
    {
     "name": "stdout",
     "output_type": "stream",
     "text": [
      "[ 0.  4.  8. 12. 16. 20.]\n"
     ]
    }
   ],
   "source": [
    "import copy\n",
    "\n",
    "zArray = copy.deepcopy(Array1)\n",
    "\n",
    "print(zArray)\n"
   ]
  },
  {
   "cell_type": "code",
   "execution_count": 16,
   "metadata": {},
   "outputs": [
    {
     "name": "stdout",
     "output_type": "stream",
     "text": [
      "[[25 16]\n",
      " [11  2]\n",
      " [13  4]\n",
      " [ 7 81]\n",
      " [ 5  6]\n",
      " [11 12]]\n"
     ]
    }
   ],
   "source": [
    "Array2 = ([[25, 16]])\n",
    "Array3 = ([[11, 2], [13, 4]])\n",
    "Array4 = ([[7, 81], [5, 6], [11, 12]])\n",
    "\n",
    "newArray = np.concatenate((Array2, Array3, Array4), axis=0)\n",
    "print(newArray)\n"
   ]
  },
  {
   "cell_type": "code",
   "execution_count": 18,
   "metadata": {},
   "outputs": [
    {
     "name": "stdout",
     "output_type": "stream",
     "text": [
      "[[16 25]\n",
      " [ 2 11]\n",
      " [ 4 13]\n",
      " [ 7 81]\n",
      " [ 5  6]\n",
      " [11 12]]\n"
     ]
    }
   ],
   "source": [
    "sortedArray = np.sort(newArray)\n",
    "print(sortedArray)\n"
   ]
  },
  {
   "cell_type": "code",
   "execution_count": 26,
   "metadata": {},
   "outputs": [
    {
     "name": "stdout",
     "output_type": "stream",
     "text": [
      "[25 16]\n",
      "[11  2]\n",
      "[13  4]\n",
      "[ 7 81]\n",
      "[5 6]\n",
      "[11 12]\n"
     ]
    }
   ],
   "source": [
    "a, b, c, d, e, f = newArray\n",
    "\n",
    "print(a)\n",
    "print(b)\n",
    "print(c)\n",
    "print(d)\n",
    "print(e)\n",
    "print(f)\n",
    "\n",
    "    #Number 12 here is unclear, are we to use the \"reshapedArray\" from #7, or use the \"sortedArray\" from #11?  THere are more than 4 variables?\n"
   ]
  },
  {
   "cell_type": "code",
   "execution_count": 41,
   "metadata": {},
   "outputs": [
    {
     "name": "stdout",
     "output_type": "stream",
     "text": [
      "[10 11 12 13 14 15 16 17 20 21 22 23 24 25 26 27  0  1  2  3  4  5  6  7]\n",
      "[ 0  1  2  3  4  5  6  7 10 11 12 13 14 15 16 17 20 21 22 23 24 25 26 27]\n"
     ]
    }
   ],
   "source": [
    "one = np.array([10, 11, 12, 13, 14, 15, 16, 17])\n",
    "two = np.array([20, 21, 22, 23, 24, 25, 26, 27])\n",
    "three = np.array([ 0, 1, 2, 3, 4, 5, 6, 7])\n",
    "\n",
    "comboArray = np.concatenate((one, two, three), axis = 0)\n",
    "print(comboArray)\n",
    "\n",
    "comboArray = np.sort(comboArray)\n",
    "print(comboArray)\n"
   ]
  },
  {
   "cell_type": "code",
   "execution_count": 63,
   "metadata": {},
   "outputs": [
    {
     "name": "stdout",
     "output_type": "stream",
     "text": [
      "2\n",
      "[ 3  4  5  6  7 10 11 12 13 14 15 16 17 20 21 22 23 24 25 26 27]\n",
      "[ 4  5  6  7 10 11 12 13 14 15 16]\n",
      "[22 23 24 25 26 27]\n"
     ]
    }
   ],
   "source": [
    "print(comboArray[2])\n",
    "\n",
    "print(comboArray[3:])\n",
    "\n",
    "print(comboArray[4:15])\n",
    "\n",
    "print(comboArray[18:24])\n",
    "\n",
    "print(comboArray[])\n",
    "\n",
    "print(comboArray[])\n",
    "\n",
    "print(comboArray[])"
   ]
  }
 ],
 "metadata": {
  "kernelspec": {
   "display_name": "Python 3",
   "language": "python",
   "name": "python3"
  },
  "language_info": {
   "codemirror_mode": {
    "name": "ipython",
    "version": 3
   },
   "file_extension": ".py",
   "mimetype": "text/x-python",
   "name": "python",
   "nbconvert_exporter": "python",
   "pygments_lexer": "ipython3",
   "version": "3.12.0"
  }
 },
 "nbformat": 4,
 "nbformat_minor": 2
}
