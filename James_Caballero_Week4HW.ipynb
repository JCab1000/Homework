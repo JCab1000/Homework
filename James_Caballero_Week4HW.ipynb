{
 "cells": [
  {
   "cell_type": "markdown",
   "metadata": {},
   "source": [
    "1. What does one need to do to use a module?\n",
    "2. Name a Module (not the DateTime Nodule) we looked at and write a line or 2 of code as an example using this module.\n",
    "3. What is a benefit of using Exception handling?\n",
    "4. What are the 4 components used for Python Exception Handling?\n",
    "5. NumPy arrays are like what Python data type?\n",
    "6. What is one of the main benefits of using NumPy arrays.\n",
    "7. What is one of the main requirements about the 'dtype' of NumPy arrays?\n",
    "8. Of the 10 uses of NumPy, name 2.\n",
    "9. Name one of the other libraries we'll use with NumPy?\n",
    "10. What is the shape of NumPy arrays?\n",
    "11. What is a Tensor?\n",
    "12. Name a reason why it's better using NumPy for Data Analysis than using a Python List?\n",
    "13. When creating an \"empty\" array, where do the elements come from?"
   ]
  },
  {
   "cell_type": "code",
   "execution_count": 3,
   "metadata": {},
   "outputs": [
    {
     "name": "stdout",
     "output_type": "stream",
     "text": [
      "Renting a car is more affordable\n"
     ]
    }
   ],
   "source": [
    "# Create an if statement: if 'age' is greater than or equal to 25, print \"Renting a car is more affordable\", however if 'age' is less than 25, print \"Renting a car is very expensive.\"\n",
    "\n",
    "age = 26\n",
    "\n",
    "if age >= 25:\n",
    "    print(\"Renting a car is more affordable\")\n",
    "\n",
    "elif age < 25:\n",
    "    print(\"Renting a car is very expensive.\")\n"
   ]
  },
  {
   "cell_type": "code",
   "execution_count": 2,
   "metadata": {},
   "outputs": [
    {
     "name": "stdout",
     "output_type": "stream",
     "text": [
      "You cannot legally rent a car.\n"
     ]
    }
   ],
   "source": [
    "age = 16\n",
    "\n",
    "if age >= 25:\n",
    "    print(\"Renting a car is more affordable\")\n",
    "\n",
    "elif age < 25 and age >=18:\n",
    "    print(\"Renting a car is very expensive.\")\n",
    "\n",
    "elif age < 18:\n",
    "        print(\"You cannot legally rent a car.\")\n"
   ]
  },
  {
   "cell_type": "code",
   "execution_count": 30,
   "metadata": {},
   "outputs": [
    {
     "name": "stdout",
     "output_type": "stream",
     "text": [
      "44\n",
      "a\n",
      "e\n",
      "i\n",
      "o\n",
      "u\n"
     ]
    }
   ],
   "source": [
    "sentence = \"The quick brown fox jumps over the lazy dog:\"\n",
    "print(len(sentence))\n",
    "\n",
    "for vowel in 'aeiou':\n",
    "   if vowel in sentence:\n",
    "\t    print(vowel)"
   ]
  },
  {
   "cell_type": "code",
   "execution_count": 33,
   "metadata": {},
   "outputs": [
    {
     "name": "stdout",
     "output_type": "stream",
     "text": [
      "trousers Dark Sapphire\n",
      "trousers cerise\n",
      "trousers burnt sienna\n",
      "trousers maple\n",
      "trousers auburn\n",
      "trousers gunmetal blue\n",
      "trousers aqua\n",
      "trousers fuchsia\n",
      "blouse Dark Sapphire\n",
      "blouse cerise\n",
      "blouse burnt sienna\n",
      "blouse maple\n",
      "blouse auburn\n",
      "blouse gunmetal blue\n",
      "blouse aqua\n",
      "blouse fuchsia\n",
      "bandana Dark Sapphire\n",
      "bandana cerise\n",
      "bandana burnt sienna\n",
      "bandana maple\n",
      "bandana auburn\n",
      "bandana gunmetal blue\n",
      "bandana aqua\n",
      "bandana fuchsia\n",
      "cumber band Dark Sapphire\n",
      "cumber band cerise\n",
      "cumber band burnt sienna\n",
      "cumber band maple\n",
      "cumber band auburn\n",
      "cumber band gunmetal blue\n",
      "cumber band aqua\n",
      "cumber band fuchsia\n",
      "blazer Dark Sapphire\n",
      "blazer cerise\n",
      "blazer burnt sienna\n",
      "blazer maple\n",
      "blazer auburn\n",
      "blazer gunmetal blue\n",
      "blazer aqua\n",
      "blazer fuchsia\n",
      "vest Dark Sapphire\n",
      "vest cerise\n",
      "vest burnt sienna\n",
      "vest maple\n",
      "vest auburn\n",
      "vest gunmetal blue\n",
      "vest aqua\n",
      "vest fuchsia\n",
      "french beret Dark Sapphire\n",
      "french beret cerise\n",
      "french beret burnt sienna\n",
      "french beret maple\n",
      "french beret auburn\n",
      "french beret gunmetal blue\n",
      "french beret aqua\n",
      "french beret fuchsia\n",
      "scarf Dark Sapphire\n",
      "scarf cerise\n",
      "scarf burnt sienna\n",
      "scarf maple\n",
      "scarf auburn\n",
      "scarf gunmetal blue\n",
      "scarf aqua\n",
      "scarf fuchsia\n",
      "stole Dark Sapphire\n",
      "stole cerise\n",
      "stole burnt sienna\n",
      "stole maple\n",
      "stole auburn\n",
      "stole gunmetal blue\n",
      "stole aqua\n",
      "stole fuchsia\n"
     ]
    }
   ],
   "source": [
    "couture = [\"trousers\", \"blouse\", \"bandana\", \"cumber band\", \"blazer\", \"vest\", \"french beret\", \"scarf\", \"stole\"]\n",
    "panettone = {\"cerise\", \"fuchsia\", \"aqua\", \"maple\", \"auburn\", \"burnt sienna\", \"gunmetal blue\", \"Dark Sapphire\"}\n",
    "\n",
    "for x in couture:\n",
    "        for y in panettone:\n",
    "                print(x,y)"
   ]
  },
  {
   "cell_type": "code",
   "execution_count": 38,
   "metadata": {},
   "outputs": [
    {
     "name": "stdout",
     "output_type": "stream",
     "text": [
      "5050.0\n"
     ]
    }
   ],
   "source": [
    "sum = 0.\n",
    "for i in range(1, 101):\n",
    "    sum = sum + i\n",
    "print(sum)"
   ]
  },
  {
   "cell_type": "code",
   "execution_count": 46,
   "metadata": {},
   "outputs": [
    {
     "name": "stdout",
     "output_type": "stream",
     "text": [
      "banana\n"
     ]
    }
   ],
   "source": [
    "list = [\"apple\", \"banana\", \"cherry\"]\n",
    "print(list[1])\n",
    "\n"
   ]
  },
  {
   "cell_type": "code",
   "execution_count": 53,
   "metadata": {},
   "outputs": [
    {
     "name": "stdout",
     "output_type": "stream",
     "text": [
      "['kiwi', 'banana', 'cherry']\n",
      "['kiwi', 'banana', 'cherry', 'orange']\n",
      "['kiwi', 'lemon', 'banana', 'cherry', 'orange']\n",
      "['kiwi', 'lemon', 'cherry', 'orange']\n"
     ]
    }
   ],
   "source": [
    "list = [\"apple\", \"banana\", \"cherry\"]\n",
    "list[0] = \"kiwi\"\n",
    "print(list)\n",
    "\n",
    "list.append(\"orange\")\n",
    "print(list)\n",
    "\n",
    "list.insert(1, \"lemon\")\n",
    "print(list)\n",
    "\n",
    "list.remove(\"banana\")\n",
    "print(list)\n",
    "\n"
   ]
  },
  {
   "cell_type": "code",
   "execution_count": 73,
   "metadata": {},
   "outputs": [
    {
     "name": "stdout",
     "output_type": "stream",
     "text": [
      "('cherry', 'orange', 'kiwi')\n",
      "('cherry', 'orange', 'kiwi')\n",
      "7\n"
     ]
    },
    {
     "ename": "AttributeError",
     "evalue": "'tuple' object has no attribute 'reverse'",
     "output_type": "error",
     "traceback": [
      "\u001b[0;31m---------------------------------------------------------------------------\u001b[0m",
      "\u001b[0;31mAttributeError\u001b[0m                            Traceback (most recent call last)",
      "Cell \u001b[0;32mIn[73], line 8\u001b[0m\n\u001b[1;32m      4\u001b[0m \u001b[38;5;28mprint\u001b[39m(fruits[\u001b[38;5;241m2\u001b[39m:\u001b[38;5;241m5\u001b[39m])\n\u001b[1;32m      6\u001b[0m \u001b[38;5;28mprint\u001b[39m(\u001b[38;5;28mlen\u001b[39m(fruits))\n\u001b[0;32m----> 8\u001b[0m \u001b[43mfruits\u001b[49m\u001b[38;5;241;43m.\u001b[39;49m\u001b[43mreverse\u001b[49m()\n\u001b[1;32m      9\u001b[0m \u001b[38;5;28mprint\u001b[39m(fruits)\n\u001b[1;32m     11\u001b[0m fruits \u001b[38;5;241m=\u001b[39m [\u001b[38;5;124m\"\u001b[39m\u001b[38;5;124mapple\u001b[39m\u001b[38;5;124m\"\u001b[39m, \u001b[38;5;124m\"\u001b[39m\u001b[38;5;124mbanana\u001b[39m\u001b[38;5;124m\"\u001b[39m, \u001b[38;5;124m\"\u001b[39m\u001b[38;5;124mcherry\u001b[39m\u001b[38;5;124m\"\u001b[39m, \u001b[38;5;124m\"\u001b[39m\u001b[38;5;124morange\u001b[39m\u001b[38;5;124m\"\u001b[39m, \u001b[38;5;124m\"\u001b[39m\u001b[38;5;124mkiwi\u001b[39m\u001b[38;5;124m\"\u001b[39m, \u001b[38;5;124m\"\u001b[39m\u001b[38;5;124mmelon\u001b[39m\u001b[38;5;124m\"\u001b[39m, \u001b[38;5;124m\"\u001b[39m\u001b[38;5;124mmango\u001b[39m\u001b[38;5;124m\"\u001b[39m]\n",
      "\u001b[0;31mAttributeError\u001b[0m: 'tuple' object has no attribute 'reverse'"
     ]
    }
   ],
   "source": [
    "fruits = (\"apple\", \"banana\", \"cherry\", \"orange\", \"kiwi\", \"melon\", \"mango\")\n",
    "print(fruits[-5:-2])\n",
    "\n",
    "print(fruits[2:5])\n",
    "\n",
    "print(len(fruits))\n",
    "\n",
    "fruits.reverse()\n",
    "print(fruits)\n",
    "\n",
    "\n"
   ]
  },
  {
   "cell_type": "code",
   "execution_count": 74,
   "metadata": {},
   "outputs": [
    {
     "name": "stdout",
     "output_type": "stream",
     "text": [
      "['mango', 'melon', 'kiwi', 'orange', 'cherry', 'banana', 'apple']\n"
     ]
    }
   ],
   "source": [
    "fruits = [\"apple\", \"banana\", \"cherry\", \"orange\", \"kiwi\", \"melon\", \"mango\"]\n",
    "fruits.reverse()\n",
    "print(fruits)\n"
   ]
  },
  {
   "cell_type": "code",
   "execution_count": 75,
   "metadata": {},
   "outputs": [
    {
     "name": "stdout",
     "output_type": "stream",
     "text": [
      "2024-01-31 10:34:11.731448\n"
     ]
    }
   ],
   "source": [
    "import datetime as dt\n",
    "a = dt.datetime.now()\n",
    "print(a)"
   ]
  },
  {
   "cell_type": "code",
   "execution_count": 84,
   "metadata": {},
   "outputs": [
    {
     "name": "stdout",
     "output_type": "stream",
     "text": [
      "Current Date and Time ... 2024-01-31 10:42:01.697931\n",
      "Current month is January\n"
     ]
    }
   ],
   "source": [
    "a = dt.datetime.now()\n",
    "print(\"Current Date and Time ...\", a)\n",
    "\n",
    "print(\"Current month is\", a.strftime(\"%B\"))\n"
   ]
  },
  {
   "cell_type": "code",
   "execution_count": 126,
   "metadata": {},
   "outputs": [
    {
     "name": "stdout",
     "output_type": "stream",
     "text": [
      "Hi Jake !\n",
      "Happy Sunday !\n",
      "Hi Mimi !\n",
      "Happy Sunday !\n",
      "Hi Mike !\n",
      "Happy Sunday !\n"
     ]
    }
   ],
   "source": [
    "# Function definition is here\n",
    "from calendar import SUNDAY\n",
    "import datetime\n",
    "example = dt.datetime(2024, 1, 28)\n",
    "\n",
    "def firstName(name, day = example.strftime(\"%A\")): \n",
    "    # \"This code below prints all info passed into this function\"\n",
    "    print(\"Hi\", name,\"!\")\n",
    "    print(\"Happy\", day,\"!\")\n",
    "\n",
    "# call the printInfo function with parameters in order\n",
    "firstName(\"Jake\")\n",
    "firstName(name=\"Mimi\")\n",
    "firstName(name=\"Mike\")"
   ]
  }
 ],
 "metadata": {
  "kernelspec": {
   "display_name": "Python 3",
   "language": "python",
   "name": "python3"
  },
  "language_info": {
   "codemirror_mode": {
    "name": "ipython",
    "version": 3
   },
   "file_extension": ".py",
   "mimetype": "text/x-python",
   "name": "python",
   "nbconvert_exporter": "python",
   "pygments_lexer": "ipython3",
   "version": "3.12.0"
  }
 },
 "nbformat": 4,
 "nbformat_minor": 2
}
