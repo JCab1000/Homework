{
 "cells": [
  {
   "cell_type": "markdown",
   "metadata": {},
   "source": [
    "1. What does one need to do to use a module?\n",
    "    ## <span style=\"color:Green\">IMPORT the module! </span>\n",
    "2. Name a Module (not the DateTime Nodule) we looked at and write a line or 2 of code as an example using this module.\n",
    "    # Math module type the following:\n",
    "    **import math**  \n",
    "    \n",
    "    **print(match,ceil(10.2))**\n",
    "    \n",
    "    **print(\"Print PI\", math.pi)**\n",
    "3. What is a benefit of using Exception handling?\n",
    "    \n",
    "    <span style=\"color:Green\">With this code we can keep going past many errors instead of crashing your computer. </span>\n",
    "4. What are the 4 components used for Python Exception Handling?\n",
    "   \n",
    "   <span style=\"color:Green\">try, except, else, finally </span>\n",
    "5. NumPy arrays are like what Python data type?\n",
    "    \n",
    "    <span style=\"color:Green\">Lists </span>\n",
    "6. What is one of the main benefits of using NumPy arrays.\n",
    "\n",
    "    <span style=\"color:Green\">Occupy less memorey <span>\n",
    "\n",
    "7. What is one of the main requirements about the 'dtype' of NumPy arrays?\n",
    "\n",
    "    <span style=\"color:Green\">store only the same data type. </span>\n",
    "\n",
    "8. Of the 10 uses of NumPy, name 2.\n",
    "\n",
    "    <span style=\"color:Green\">Arithmetic operations and stacking. </span>\n",
    "\n",
    "9. Name one of the other libraries we'll use with NumPy?\n",
    "    \n",
    "    <span style=\"color:Green\">Pandas and Matplotlib. </span>\n",
    "\n",
    "10. What is the shape of NumPy arrays?\n",
    "\n",
    "    <span style=\"color:Green\">The shape is a tuple of non-negative integers that specify the dimensions, length and size of each array (3,2,4) </span>\n",
    "\n",
    "11. What is a Tensor?\n",
    "\n",
    "    <span style=\"color:Green\">An array with three dimensions. </span>\n",
    "\n",
    "12. Name a reason why it's better using NumPy for Data Analysis than using a Python List?\n",
    "\n",
    "    <span style=\"color:Green\">Convenient - it is convenient to work with NumPy. </span>\n",
    "\n",
    "13. When creating an \"empty\" array, where do the elements come from?\n",
    "\n",
    "    <span style=\"color:Green\"> Empty will fill in values based on memory. </span>\n"
   ]
  },
  {
   "cell_type": "code",
   "execution_count": 3,
   "metadata": {},
   "outputs": [
    {
     "name": "stdout",
     "output_type": "stream",
     "text": [
      "Renting a car is more affordable\n"
     ]
    }
   ],
   "source": [
    "# Create an if statement: if 'age' is greater than or equal to 25, print \"Renting a car is more affordable\", however if 'age' is less than 25, print \"Renting a car is very expensive.\"\n",
    "\n",
    "age = 26\n",
    "\n",
    "if age >= 25:\n",
    "    print(\"Renting a car is more affordable\")\n",
    "\n",
    "elif age < 25:\n",
    "    print(\"Renting a car is very expensive.\")\n"
   ]
  },
  {
   "cell_type": "code",
   "execution_count": 2,
   "metadata": {},
   "outputs": [
    {
     "name": "stdout",
     "output_type": "stream",
     "text": [
      "You cannot legally rent a car.\n"
     ]
    }
   ],
   "source": [
    "age = 16\n",
    "\n",
    "if age >= 25:\n",
    "    print(\"Renting a car is more affordable\")\n",
    "\n",
    "elif age < 25 and age >=18:\n",
    "    print(\"Renting a car is very expensive.\")\n",
    "\n",
    "elif age < 18:\n",
    "        print(\"You cannot legally rent a car.\")\n"
   ]
  },
  {
   "cell_type": "code",
   "execution_count": 9,
   "metadata": {},
   "outputs": [
    {
     "name": "stdout",
     "output_type": "stream",
     "text": [
      "44\n",
      "a\n",
      "e\n",
      "i\n",
      "o\n",
      "u\n"
     ]
    }
   ],
   "source": [
    "sentence = \"The quick brown fox jumps over the lazy dog:\"\n",
    "count = 0\n",
    "\n",
    "for character in sentence:\n",
    "   count += 1\n",
    "print(count)\n",
    "\n",
    "for vowel in 'aeiou':\n",
    "   if vowel in sentence:\n",
    "\t    print(vowel)\n",
    "         "
   ]
  },
  {
   "cell_type": "code",
   "execution_count": 33,
   "metadata": {},
   "outputs": [
    {
     "name": "stdout",
     "output_type": "stream",
     "text": [
      "trousers Dark Sapphire\n",
      "trousers cerise\n",
      "trousers burnt sienna\n",
      "trousers maple\n",
      "trousers auburn\n",
      "trousers gunmetal blue\n",
      "trousers aqua\n",
      "trousers fuchsia\n",
      "blouse Dark Sapphire\n",
      "blouse cerise\n",
      "blouse burnt sienna\n",
      "blouse maple\n",
      "blouse auburn\n",
      "blouse gunmetal blue\n",
      "blouse aqua\n",
      "blouse fuchsia\n",
      "bandana Dark Sapphire\n",
      "bandana cerise\n",
      "bandana burnt sienna\n",
      "bandana maple\n",
      "bandana auburn\n",
      "bandana gunmetal blue\n",
      "bandana aqua\n",
      "bandana fuchsia\n",
      "cumber band Dark Sapphire\n",
      "cumber band cerise\n",
      "cumber band burnt sienna\n",
      "cumber band maple\n",
      "cumber band auburn\n",
      "cumber band gunmetal blue\n",
      "cumber band aqua\n",
      "cumber band fuchsia\n",
      "blazer Dark Sapphire\n",
      "blazer cerise\n",
      "blazer burnt sienna\n",
      "blazer maple\n",
      "blazer auburn\n",
      "blazer gunmetal blue\n",
      "blazer aqua\n",
      "blazer fuchsia\n",
      "vest Dark Sapphire\n",
      "vest cerise\n",
      "vest burnt sienna\n",
      "vest maple\n",
      "vest auburn\n",
      "vest gunmetal blue\n",
      "vest aqua\n",
      "vest fuchsia\n",
      "french beret Dark Sapphire\n",
      "french beret cerise\n",
      "french beret burnt sienna\n",
      "french beret maple\n",
      "french beret auburn\n",
      "french beret gunmetal blue\n",
      "french beret aqua\n",
      "french beret fuchsia\n",
      "scarf Dark Sapphire\n",
      "scarf cerise\n",
      "scarf burnt sienna\n",
      "scarf maple\n",
      "scarf auburn\n",
      "scarf gunmetal blue\n",
      "scarf aqua\n",
      "scarf fuchsia\n",
      "stole Dark Sapphire\n",
      "stole cerise\n",
      "stole burnt sienna\n",
      "stole maple\n",
      "stole auburn\n",
      "stole gunmetal blue\n",
      "stole aqua\n",
      "stole fuchsia\n"
     ]
    }
   ],
   "source": [
    "couture = [\"trousers\", \"blouse\", \"bandana\", \"cumber band\", \"blazer\", \"vest\", \"french beret\", \"scarf\", \"stole\"]\n",
    "panettone = {\"cerise\", \"fuchsia\", \"aqua\", \"maple\", \"auburn\", \"burnt sienna\", \"gunmetal blue\", \"Dark Sapphire\"}\n",
    "\n",
    "for x in couture:\n",
    "        for y in panettone:\n",
    "                print(x,y)"
   ]
  },
  {
   "cell_type": "code",
   "execution_count": 38,
   "metadata": {},
   "outputs": [
    {
     "name": "stdout",
     "output_type": "stream",
     "text": [
      "5050.0\n"
     ]
    }
   ],
   "source": [
    "sum = 0.\n",
    "for i in range(1, 101):\n",
    "    sum = sum + i\n",
    "print(sum)"
   ]
  },
  {
   "cell_type": "code",
   "execution_count": 46,
   "metadata": {},
   "outputs": [
    {
     "name": "stdout",
     "output_type": "stream",
     "text": [
      "banana\n"
     ]
    }
   ],
   "source": [
    "list = [\"apple\", \"banana\", \"cherry\"]\n",
    "print(list[1])\n",
    "\n"
   ]
  },
  {
   "cell_type": "code",
   "execution_count": 53,
   "metadata": {},
   "outputs": [
    {
     "name": "stdout",
     "output_type": "stream",
     "text": [
      "['kiwi', 'banana', 'cherry']\n",
      "['kiwi', 'banana', 'cherry', 'orange']\n",
      "['kiwi', 'lemon', 'banana', 'cherry', 'orange']\n",
      "['kiwi', 'lemon', 'cherry', 'orange']\n"
     ]
    }
   ],
   "source": [
    "list = [\"apple\", \"banana\", \"cherry\"]\n",
    "list[0] = \"kiwi\"\n",
    "print(list)\n",
    "\n",
    "list.append(\"orange\")\n",
    "print(list)\n",
    "\n",
    "list.insert(1, \"lemon\")\n",
    "print(list)\n",
    "\n",
    "list.remove(\"banana\")\n",
    "print(list)\n",
    "\n"
   ]
  },
  {
   "cell_type": "code",
   "execution_count": 1,
   "metadata": {},
   "outputs": [
    {
     "name": "stdout",
     "output_type": "stream",
     "text": [
      "('cherry', 'orange', 'kiwi')\n",
      "('cherry', 'orange', 'kiwi')\n",
      "7\n"
     ]
    }
   ],
   "source": [
    "fruits = (\"apple\", \"banana\", \"cherry\", \"orange\", \"kiwi\", \"melon\", \"mango\")\n",
    "print(fruits[-5:-2])\n",
    "\n",
    "print(fruits[2:5])\n",
    "\n",
    "print(len(fruits))\n",
    "\n"
   ]
  },
  {
   "cell_type": "code",
   "execution_count": 74,
   "metadata": {},
   "outputs": [
    {
     "name": "stdout",
     "output_type": "stream",
     "text": [
      "['mango', 'melon', 'kiwi', 'orange', 'cherry', 'banana', 'apple']\n"
     ]
    }
   ],
   "source": [
    "fruits = [\"apple\", \"banana\", \"cherry\", \"orange\", \"kiwi\", \"melon\", \"mango\"]\n",
    "fruits.reverse()\n",
    "print(fruits)\n"
   ]
  },
  {
   "cell_type": "code",
   "execution_count": 75,
   "metadata": {},
   "outputs": [
    {
     "name": "stdout",
     "output_type": "stream",
     "text": [
      "2024-01-31 10:34:11.731448\n"
     ]
    }
   ],
   "source": [
    "import datetime as dt\n",
    "a = dt.datetime.now()\n",
    "print(a)"
   ]
  },
  {
   "cell_type": "code",
   "execution_count": 84,
   "metadata": {},
   "outputs": [
    {
     "name": "stdout",
     "output_type": "stream",
     "text": [
      "Current Date and Time ... 2024-01-31 10:42:01.697931\n",
      "Current month is January\n"
     ]
    }
   ],
   "source": [
    "a = dt.datetime.now()\n",
    "print(\"Current Date and Time ...\", a)\n",
    "\n",
    "print(\"Current month is\", a.strftime(\"%B\"))\n"
   ]
  },
  {
   "cell_type": "code",
   "execution_count": 12,
   "metadata": {},
   "outputs": [
    {
     "name": "stdout",
     "output_type": "stream",
     "text": [
      "Hi Jake !\n",
      "Happy Sunday !\n",
      "Hi Jake happy Sunday !\n",
      "Hi Mimi !\n",
      "Happy Sunday !\n",
      "Hi Mimi happy Sunday !\n",
      "Hi Mike !\n",
      "Happy Sunday !\n",
      "Hi Mike happy Sunday !\n"
     ]
    }
   ],
   "source": [
    "# Function definition is here\n",
    "from calendar import SUNDAY\n",
    "import datetime\n",
    "dt = datetime\n",
    "example = dt.datetime(2024, 1, 28)\n",
    "\n",
    "def firstName(name, day = example.strftime(\"%A\")): \n",
    "    # \"This code below prints all info passed into this function\"\n",
    "    print(\"Hi\", name,\"!\")\n",
    "    print(\"Happy\", day,\"!\")\n",
    "    print(\"Hi\", name, \"happy\", day,\"!\")\n",
    "\n",
    "\n",
    "# call the printInfo function with parameters in order\n",
    "firstName(\"Jake\")\n",
    "firstName(name=\"Mimi\")\n",
    "firstName(name=\"Mike\")"
   ]
  },
  {
   "cell_type": "code",
   "execution_count": 18,
   "metadata": {},
   "outputs": [
    {
     "name": "stdout",
     "output_type": "stream",
     "text": [
      "Exception exercise, try and except\n"
     ]
    }
   ],
   "source": [
    "try:\n",
    "    print(x)\n",
    "except:\n",
    "    print(\"Exception exercise, try and except\")"
   ]
  },
  {
   "cell_type": "code",
   "execution_count": 20,
   "metadata": {},
   "outputs": [
    {
     "name": "stdout",
     "output_type": "stream",
     "text": [
      "Serenity Now!\n",
      "It's all good!\n"
     ]
    }
   ],
   "source": [
    "try:\n",
    "    print(\"Serenity Now!\")\n",
    "except:\n",
    "    print(\"Cannot do that now\")\n",
    "else:\n",
    "    print(\"It's all good!\")\n"
   ]
  },
  {
   "cell_type": "code",
   "execution_count": 22,
   "metadata": {},
   "outputs": [
    {
     "name": "stdout",
     "output_type": "stream",
     "text": [
      "Serenity Now!\n",
      "The 'try except' is finished\n"
     ]
    }
   ],
   "source": [
    "try:\n",
    "    print(\"Serenity Now!\")\n",
    "except:\n",
    "    print(\"Try Again!\")\n",
    "finally:\n",
    "    print(\"The 'try except' is finished\")\n"
   ]
  },
  {
   "cell_type": "code",
   "execution_count": 1,
   "metadata": {},
   "outputs": [
    {
     "name": "stdout",
     "output_type": "stream",
     "text": [
      "Serenity Now!\n",
      "The 'try except' is finished\n"
     ]
    }
   ],
   "source": [
    "try:\n",
    "    print(\"Serenity Now!\")\n",
    "except:\n",
    "    print(\"Try Again!\")\n",
    "finally:\n",
    "    print(\"The 'try except' is finished\")"
   ]
  }
 ],
 "metadata": {
  "kernelspec": {
   "display_name": "Python 3",
   "language": "python",
   "name": "python3"
  },
  "language_info": {
   "codemirror_mode": {
    "name": "ipython",
    "version": 3
   },
   "file_extension": ".py",
   "mimetype": "text/x-python",
   "name": "python",
   "nbconvert_exporter": "python",
   "pygments_lexer": "ipython3",
   "version": "3.12.0"
  }
 },
 "nbformat": 4,
 "nbformat_minor": 2
}
