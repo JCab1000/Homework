{
 "cells": [
  {
   "cell_type": "markdown",
   "metadata": {},
   "source": [
    "1. What does one need to do to use a module?\n",
    "2. Name a Module (not the DateTime Nodule) we looked at and write a line or 2 of code as an example using this module.\n",
    "3. What is a benefit of using Exception handling?\n",
    "4. What are the 4 components used for Python Exception Handling?\n",
    "5. NumPy arrays are like what Python data type?\n",
    "6. What is one of the main benefits of using NumPy arrays.\n",
    "7. What is one of the main requirements about the 'dtype' of NumPy arrays?\n",
    "8. Of the 10 uses of NumPy, name 2.\n",
    "9. Name one of the other libraries we'll use with NumPy?\n",
    "10. What is the shape of NumPy arrays?\n",
    "11. What is a Tensor?\n",
    "12. Name a reason why it's better using NumPy for Data Analysis than using a Python List?\n",
    "13. When creating an \"empty\" array, where do the elements come from?"
   ]
  },
  {
   "cell_type": "code",
   "execution_count": 3,
   "metadata": {},
   "outputs": [
    {
     "name": "stdout",
     "output_type": "stream",
     "text": [
      "Renting a car is more affordable\n"
     ]
    }
   ],
   "source": [
    "# Create an if statement: if 'age' is greater than or equal to 25, print \"Renting a car is more affordable\", however if 'age' is less than 25, print \"Renting a car is very expensive.\"\n",
    "\n",
    "age = 26\n",
    "\n",
    "if age >= 25:\n",
    "    print(\"Renting a car is more affordable\")\n",
    "\n",
    "elif age < 25:\n",
    "    print(\"Renting a car is very expensive.\")\n"
   ]
  },
  {
   "cell_type": "code",
   "execution_count": 23,
   "metadata": {},
   "outputs": [
    {
     "name": "stdout",
     "output_type": "stream",
     "text": [
      "You cannot legally rent a care.\n"
     ]
    }
   ],
   "source": [
    "age = 16\n",
    "\n",
    "if age >= 25:\n",
    "    print(\"Renting a car is more affordable\")\n",
    "\n",
    "elif age < 25 and age >=18:\n",
    "    print(\"Renting a car is very expensive.\")\n",
    "\n",
    "elif age < 18:\n",
    "        print(\"You cannot legally rent a care.\")\n"
   ]
  },
  {
   "cell_type": "code",
   "execution_count": 51,
   "metadata": {},
   "outputs": [],
   "source": [
    "sentence = input(\"The quick brown fox jumps over the lazy dog:\")\n",
    "vowel = \"aeiou\"\n",
    "\n",
    "for vowel in sentence:\n",
    "    if vowel in sentence:\n",
    "        print(vowel)\n",
    "\n",
    "\n",
    "\n"
   ]
  }
 ],
 "metadata": {
  "kernelspec": {
   "display_name": "Python 3",
   "language": "python",
   "name": "python3"
  },
  "language_info": {
   "codemirror_mode": {
    "name": "ipython",
    "version": 3
   },
   "file_extension": ".py",
   "mimetype": "text/x-python",
   "name": "python",
   "nbconvert_exporter": "python",
   "pygments_lexer": "ipython3",
   "version": "3.12.0"
  }
 },
 "nbformat": 4,
 "nbformat_minor": 2
}
