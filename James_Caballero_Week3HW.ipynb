{
 "cells": [
  {
   "cell_type": "markdown",
   "metadata": {},
   "source": [
    "1. What is an algorithm?<br>\n",
    "\n",
    "    <span style=\"color:green\">An algorithm is a series of steps to solve a problem at hand.</span><br>\n",
    "2. Variable names may not start with certain characters - name two.\n",
    "\n",
    "    <span style=\"color:green\">Underscore_ and dollar sign $</span><br>\n",
    "\n",
    "3. What is a Semantic error?\n",
    "\n",
    "    ***<span style=\"color:green\">Code is grammatically correct but doesn't make any sense; it does not produce the expected results.</span><br>***\n",
    "\n",
    "4. What is the #1 rule of coding / debugging?\n",
    "    \n",
    "   <span style=\"color:green\"> **Complexity is the enemy of efficiency!**</span><br>\n",
    "\n",
    "5. List 5 Python reserved words.<br>\n",
    "    <span style=\"color:yellow\">a. break<br>\n",
    "    b. else<br>\n",
    "    c. from<br>\n",
    "    d. except<br>\n",
    "    e. for<br></span><br>\n",
    "\n",
    "\n",
    " \n",
    "\n",
    "\n",
    "\n",
    "\n"
   ]
  },
  {
   "cell_type": "code",
   "execution_count": 3,
   "metadata": {},
   "outputs": [
    {
     "data": {
      "text/plain": [
       "'\"\\nMy name is James.\\n\\nMy favorite food is pizza.\\n\\nMy dream job is to the the GM of the Dallas Cowboys.\\n\\n'"
      ]
     },
     "execution_count": 3,
     "metadata": {},
     "output_type": "execute_result"
    }
   ],
   "source": [
    "\"\"\"\"\n",
    "My name is James.\n",
    "\n",
    "My favorite food is pizza.\n",
    "\n",
    "My dream job is to the the GM of the Dallas Cowboys.\n",
    "\n",
    "\"\"\""
   ]
  },
  {
   "cell_type": "code",
   "execution_count": 15,
   "metadata": {},
   "outputs": [
    {
     "name": "stdout",
     "output_type": "stream",
     "text": [
      "The length of x is ... 19\n",
      "x 19\n",
      "x s\n"
     ]
    }
   ],
   "source": [
    "x = \"I wish I was faster\"\n",
    "\n",
    "a = 20\n",
    "\n",
    "b = 45.5\n",
    "\n",
    "c = True\n",
    "\n",
    "y = [\"dog\", \"allligator\" , \"shark\"]\n",
    "\n",
    "print(\"The length of x is ...\", len(x))\n",
    "\n",
    "print(\"x\", len(x))\n",
    "\n",
    "print(\"x\", x[4])\n"
   ]
  },
  {
   "cell_type": "code",
   "execution_count": 1,
   "metadata": {},
   "outputs": [
    {
     "name": "stdout",
     "output_type": "stream",
     "text": [
      "Learning Data Analytics and Python is Awesome!\n",
      "ing Data Analytics\n",
      "Learning Data Analytics and Python is great!\n",
      "Learning Data Analytics and Python is Awesome!\n",
      "Yup, there is Python in string.\n"
     ]
    }
   ],
   "source": [
    "saavy = \"Learning Data Analytics and Python is Awesome!\"\n",
    "print(saavy)\n",
    "\n",
    "print(saavy[5:23])\n",
    "\n",
    "print(saavy.replace(\"Awesome\", \"great\"))\n",
    "\n",
    "print(saavy)\n",
    "\n",
    "if \"Python\" in saavy :\n",
    "    print(\"Yup, there is Python in string.\")\n",
    "else :\n",
    "    print(\"Nope, no Python in string.\")"
   ]
  },
  {
   "cell_type": "code",
   "execution_count": 40,
   "metadata": {},
   "outputs": [
    {
     "name": "stdout",
     "output_type": "stream",
     "text": [
      "My name is James, I am five feet seven inches and 100 years old today. \n",
      "My name is James I am five feet seven inches tall and 100 years old today.\n",
      "100.0\n"
     ]
    }
   ],
   "source": [
    "name = \"James\"\n",
    "age = \"100\"\n",
    "tall = \"five feet seven inches\"\n",
    "miniBio = \"My name is \" + name + \", I am \" + tall + \" and \" + age + \" years old today. \"\n",
    "\n",
    "print(miniBio)\n",
    "\n",
    "miniBio2 = \"My name is {} I am {} tall and {} years old today.\"\n",
    "print(miniBio2.format (name, tall, age))\n",
    "\n",
    "age = float(100)\n",
    "print(age)\n",
    "\n"
   ]
  },
  {
   "cell_type": "code",
   "execution_count": 51,
   "metadata": {},
   "outputs": [
    {
     "name": "stdout",
     "output_type": "stream",
     "text": [
      "['detail', 15, 10.5, [2, 4, 6], {'warning': 'end'}]\n",
      "lst length =  5\n",
      "\n",
      "fifth lst ...  15\n",
      "fifth lst replaced ... ['detail', '65', 10.5, [2, 4, 6], {'warning': 'end'}]\n",
      "New list ...  ['detail', '65', 10.5, [2, 4, 6], {'warning': 'end'}, 'tiger', 'car', 'tank']\n",
      "8\n"
     ]
    }
   ],
   "source": [
    "lst = [\"detail\", 15, 10.5, [2,4,6], {\"warning\" :\"end\"}]\n",
    "print(lst)\n",
    "print(\"lst length = \", len(lst))\n",
    "print(\"\\nfifth lst ... \", lst [1])\n",
    "\n",
    "lst[1] = \"65\"\n",
    "print(\"fifth lst replaced ...\", lst)\n",
    "\n",
    "lst.append(\"tiger\")\n",
    "lst.append(\"car\")\n",
    "lst.append(\"tank\")\n",
    "print(\"New list ... \" , lst)\n",
    "\n",
    "print(len(lst))\n",
    "\n"
   ]
  },
  {
   "cell_type": "code",
   "execution_count": 5,
   "metadata": {},
   "outputs": [
    {
     "name": "stdout",
     "output_type": "stream",
     "text": [
      "[15, 10.5]\n",
      "[15, 10.5, [2, 4, 6]]\n",
      "[15, 10.5, 'dog', 'run']\n",
      "Extended lst ...  ['detail', 15, 10.5, [2, 4, 6], {'warning': 'end'}, 15, 10.5, 'dog', 'run']\n"
     ]
    }
   ],
   "source": [
    "lst = [\"detail\", 15, 10.5, [2,4,6], {\"warning\" :\"end\"}]\n",
    "\n",
    "print(lst[1:3])\n",
    "\n",
    "lst2 = lst[1:4]\n",
    "print(lst2)\n",
    "\n",
    "lst2 = [15, 10.5, \"dog\", \"run\"]\n",
    "print(lst2)\n",
    "\n",
    "lst.extend(lst2)\n",
    "print(\"Extended lst ... \" , lst)\n",
    "\n",
    "\n",
    "\n"
   ]
  },
  {
   "cell_type": "code",
   "execution_count": 74,
   "metadata": {},
   "outputs": [
    {
     "name": "stdout",
     "output_type": "stream",
     "text": [
      "Sorted simList in reverse -  [10, 8, 6, 4, 2]\n",
      "copied list: [10, 8, 6, 4, 2]\n",
      "[15, 10.5, 'dog', 'run', 10, 8, 6, 4, 2]\n"
     ]
    }
   ],
   "source": [
    "simList = [2, 4, 6, 8, 10]\n",
    "simList.sort(reverse=True)\n",
    "print(\"Sorted simList in reverse - \" , simList)\n",
    "\n",
    "lst3 = simList.copy()\n",
    "print(\"copied list:\" , lst3)\n",
    "\n",
    "lst4 = lst2 + lst3\n",
    "print(lst4)\n"
   ]
  },
  {
   "cell_type": "code",
   "execution_count": 15,
   "metadata": {},
   "outputs": [
    {
     "name": "stdout",
     "output_type": "stream",
     "text": [
      "(10, 15, 20, 30, 2024)\n",
      "timesTuple ... (10, 15, 20, 30, 2024, 10, 15, 20, 30, 2024, 10, 15, 20, 30, 2024)\n",
      "(10, 15, 20, 30, 2024, 10, 15, 20, 30, 2024, 10, 15, 20, 30, 2024)\n",
      "\n",
      "tup2[12] ...  20\n",
      "(10, 15, 20, 30, 2024, 10, 15, 20, 30, 2024, 10, 15, 20, 30, 2024)\n",
      "<class 'tuple'>\n"
     ]
    }
   ],
   "source": [
    "tup1 = 10 , 15, 20, 30, 2024\n",
    "print(tup1)\n",
    "\n",
    "timesTuple = tup1 * 3\n",
    "print(\"timesTuple ...\", timesTuple)\n",
    "\n",
    "tup2 = (10, 15, 20, 30, 2024, 10, 15, 20, 30, 2024, 10, 15, 20, 30, 2024)\n",
    "print(tup2)\n",
    "\n",
    "print(\"\\ntup2[12] ... \", tup2[12])\n",
    "\n",
    "list(tup2).sort()\n",
    "print(tup2)\n",
    "print(type(tup2))\n",
    "\n"
   ]
  },
  {
   "cell_type": "code",
   "execution_count": 17,
   "metadata": {},
   "outputs": [
    {
     "name": "stdout",
     "output_type": "stream",
     "text": [
      "(15, 20, 30, 2024)\n",
      "(15, 20, 30, 2024)\n",
      "50\n",
      "tup5 ... (10, 15, 20, 30, 2024, 10, 15, 20, 30, 2024, 10, 15, 20, 30, 2024, 15, 20, 30, 2024)\n"
     ]
    }
   ],
   "source": [
    "tup3 = (15, 20, 30, 2024)\n",
    "print(tup3)\n",
    "\n",
    "fifteen, twenty, thirty, TwoThousandTwentyFour = tup3\n",
    "print(tup3)\n",
    "\n",
    "tup4 = (50)\n",
    "print(tup4)\n",
    "\n",
    "tup5 = tup2 + tup3 \n",
    "print(\"tup5 ...\", tup5)\n",
    "\n"
   ]
  },
  {
   "cell_type": "code",
   "execution_count": 117,
   "metadata": {},
   "outputs": [
    {
     "name": "stdout",
     "output_type": "stream",
     "text": [
      "set1 ... {'coconut', 'orange', 'cherry', 'banana', 'apple'}\n",
      "{'coconut', 'car', 'orange', 'cherry', 'banana', 'apple'}\n",
      "{'plane', 'boat', 'house'}\n",
      "\n",
      "United sets ...\n",
      " {'plane', 'coconut', 'car', 'orange', 'house', 'boat', 'cherry', 'banana', 'apple'}\n",
      "\n",
      "set2 last popped =  {'boat', 'house'}\n",
      "list after clear(): set()\n",
      "{'plane', 'coconut', 'car', 'orange', 'house', 'boat', 'cherry', 'banana', 'apple'}\n",
      "reduced set3 ...  {'coconut', 'car', 'orange', 'house', 'boat', 'banana', 'apple'}\n"
     ]
    }
   ],
   "source": [
    "set1 = {\"apple\", \"banana\", \"cherry\"}\n",
    "set1.add(\"orange\")\n",
    "set1.add(\"cherry\")\n",
    "set1.add(\"coconut\")\n",
    "print(\"set1 ...\", set1)\n",
    "\n",
    "set1.add(\"car\")\n",
    "print(set1)\n",
    "\n",
    "set2 = {\"plane\", \"house\", \"boat\"}\n",
    "print(set2)\n",
    "\n",
    "set3 = set1.union(set2)\n",
    "print(\"\\nUnited sets ...\\n\", set3)\n",
    "\n",
    "set2.pop()\n",
    "print(\"\\nset2 last popped = \", set2)\n",
    "\n",
    "set1.clear()\n",
    "print(\"list after clear():\", set1)\n",
    "\n",
    "print(set3)\n",
    "\n",
    "set3.remove(\"plane\")\n",
    "set3.discard(\"cherry\")\n",
    "print(\"reduced set3 ... \", set3)\n",
    "\n"
   ]
  },
  {
   "cell_type": "code",
   "execution_count": 151,
   "metadata": {},
   "outputs": [
    {
     "name": "stdout",
     "output_type": "stream",
     "text": [
      "{'brand': 'Ford', 'model': 'Mustang', 'electric': False, 'year': 1964, 'weight': '3049 lbs', 'hors_power': 275, 'cu-in_capacity': 288.5, 'colors': ['red', 'white', 'blue']}\n",
      "Mustang\n",
      "{'brand': 'Ford', 'model': 'James', 'electric': False, 'year': 1964, 'weight': '3049 lbs', 'hors_power': 275, 'cu-in_capacity': 288.5, 'colors': ['red', 'white', 'blue']}\n",
      "{'brand': 'Ford', 'model': 'James', 'electric': False, 'year': 1964, 'weight': '3049 lbs', 'hors_power': 275, 'cu-in_capacity': 288.5, 'colors': 'Green'}\n",
      "{'brand': 'Ford', 'model': 'James', 'electric': False, 'year': 1964, 'weight': '3049 lbs', 'hors_power': 275, 'cu-in_capacity': 288.5, 'colors': 'Green', 'Tires': [18, 20, 22]}\n",
      "dict_keys(['brand', 'model', 'electric', 'year', 'weight', 'hors_power', 'cu-in_capacity', 'colors', 'Tires'])\n",
      "dict_values(['Ford', 'James', False, 1964, '3049 lbs', 275, 288.5, 'Green', [18, 20, 22]])\n",
      "Copied adict: {'brand': 'Ford', 'model': 'James', 'electric': False, 'year': 1964, 'weight': '3049 lbs', 'hors_power': 275, 'cu-in_capacity': 288.5, 'colors': 'Green', 'Tires': [18, 20, 22]}\n",
      "{'brand': 'Ford', 'model': 'James', 'electric': False, 'year': 1964, 'weight': '3049 lbs', 'hors_power': 275, 'cu-in_capacity': 288.5, 'colors': 'Green', 'Tires': [18, 20, 22]}\n",
      "\n",
      "NewDict first popped =  {'model': 'James', 'electric': False, 'year': 1964, 'weight': '3049 lbs', 'hors_power': 275, 'cu-in_capacity': 288.5, 'colors': 'Green', 'Tires': [18, 20, 22]}\n",
      "{'model': 'James', 'electric': False, 'year': 1964, 'weight': '3049 lbs', 'hors_power': 275, 'cu-in_capacity': 288.5, 'colors': 'Green', 'Tires': [18, 20, 22]}\n",
      "cleared NewDict ... {}\n",
      "{}\n"
     ]
    }
   ],
   "source": [
    "aDict = {\n",
    "    \"brand\": \"Ford\",\n",
    "    \"model\": \"Mustang\",\n",
    "    \"electric\": False,\n",
    "    \"year\": 1964,\n",
    "    \"weight\" : \"3049 lbs\",\n",
    "    \"hors_power\": 275,\n",
    "    \"cu-in_capacity\": 288.5,\n",
    "    \"colors\": [\"red\", \"white\", \"blue\"]\n",
    "}\n",
    "print(aDict)\n",
    "\n",
    "print(aDict[\"model\"])\n",
    "\n",
    "aDict[\"model\"] = \"James\"\n",
    "print(aDict)\n",
    "\n",
    "aDict[\"colors\"] = \"Green\"\n",
    "print(aDict)\n",
    "\n",
    "aDict.update({\"Tires\":[18, 20, 22]})\n",
    "print(aDict)\n",
    "\n",
    "print(aDict.keys())\n",
    "\n",
    "print(aDict.values())  \n",
    "\n",
    "NewDict = aDict.copy()\n",
    "print(\"Copied adict:\", NewDict)\n",
    "\n",
    "print(NewDict)\n",
    "\n",
    "NewDict.pop(\"brand\" , \"Ford\")\n",
    "print(\"\\nNewDict first popped = \", NewDict)\n",
    "\n",
    "print(NewDict)\n",
    "\n",
    "NewDict.clear()\n",
    "print(\"cleared NewDict ...\" , NewDict)\n",
    "\n",
    "print(NewDict)\n"
   ]
  }
 ],
 "metadata": {
  "kernelspec": {
   "display_name": "Python 3",
   "language": "python",
   "name": "python3"
  },
  "language_info": {
   "codemirror_mode": {
    "name": "ipython",
    "version": 3
   },
   "file_extension": ".py",
   "mimetype": "text/x-python",
   "name": "python",
   "nbconvert_exporter": "python",
   "pygments_lexer": "ipython3",
   "version": "3.12.0"
  }
 },
 "nbformat": 4,
 "nbformat_minor": 2
}
